{
  "nbformat": 4,
  "nbformat_minor": 0,
  "metadata": {
    "colab": {
      "provenance": [],
      "mount_file_id": "1-hXSK_5B-PUUmEQb28b9U5h_GfjC7wnd",
      "authorship_tag": "ABX9TyM9Vntzce6bMMeDBOwILTwR",
      "include_colab_link": true
    },
    "kernelspec": {
      "name": "python3",
      "display_name": "Python 3"
    },
    "language_info": {
      "name": "python"
    }
  },
  "cells": [
    {
      "cell_type": "markdown",
      "metadata": {
        "id": "view-in-github",
        "colab_type": "text"
      },
      "source": [
        "<a href=\"https://colab.research.google.com/github/arl256/Data-Analysis-and-Machine-Learning-Projects/blob/master/Modelo_variables.ipynb\" target=\"_parent\"><img src=\"https://colab.research.google.com/assets/colab-badge.svg\" alt=\"Open In Colab\"/></a>"
      ]
    },
    {
      "cell_type": "code",
      "execution_count": 1,
      "metadata": {
        "colab": {
          "base_uri": "https://localhost:8080/"
        },
        "id": "aSiJg0fCvjbg",
        "outputId": "674f1be4-5578-48d6-b47c-1a0a2eedb916"
      },
      "outputs": [
        {
          "output_type": "stream",
          "name": "stdout",
          "text": [
            "           REFCAT                                           geometry   MAPA  \\\n",
            "0  001900100CF55E  POLYGON ((353869.796 4555458.902, 353861.516 4...  43139   \n",
            "1  001900200CF55E  POLYGON ((353860.326 4555456.463, 353848.386 4...  43139   \n",
            "2  001900300CF55E  POLYGON ((353881.296 4555458.013, 353869.796 4...  43139   \n",
            "3  001901500CF55E  POLYGON ((353889.510 4555548.953, 353896.897 4...  43139   \n",
            "4  0020101CF5512N  POLYGON ((349905.535 4552257.298, 349812.416 4...  43139   \n",
            "\n",
            "   DELEGACIO  MUNICIPIO  MASA     HOJA TIPO PARCELA      COORX  ...  \\\n",
            "0         43        900   190  00CF55E    U      01  353892.93  ...   \n",
            "1         43        900   190  00CF55E    U      02  353883.52  ...   \n",
            "2         43        900   190  00CF55E    U      03  353898.49  ...   \n",
            "3         43        900   190  00CF55E    U      15  353900.42  ...   \n",
            "4         43        900   201  CF5512N    U      01  349787.97  ...   \n",
            "\n",
            "   fondo_total  fondo_media  sep_facha_total  sep_facha_media  \\\n",
            "0   397.695166    18.937865        73.519496         3.675975   \n",
            "1   380.368619    18.112791        73.764543         3.688227   \n",
            "2   452.651631    18.860485        76.146894         3.310735   \n",
            "3   295.668936    14.079473        76.901364         3.845068   \n",
            "4   661.254891    73.472766        83.261448         8.326145   \n",
            "\n",
            "   sep_lindes_total  sep_lindes_media  sup_facha_equi_total  \\\n",
            "0         27.029257          1.287107          12336.771626   \n",
            "1         24.663608          1.174458          14874.047142   \n",
            "2         29.988839          1.249535          10621.053072   \n",
            "3         24.377123          1.160815          16156.441678   \n",
            "4         19.778587          1.648216          13856.980442   \n",
            "\n",
            "   sup_facha_equi_media clave_urb zona  \n",
            "0            587.465316      33-P   33  \n",
            "1            708.287959      33-P   33  \n",
            "2            442.543878      33-P   33  \n",
            "3            769.354366      33-P   33  \n",
            "4           1154.748370        20   20  \n",
            "\n",
            "[5 rows x 166 columns]\n"
          ]
        }
      ],
      "source": [
        "import pandas as pd\n",
        "from sklearn.model_selection import train_test_split\n",
        "from sklearn.preprocessing import StandardScaler\n",
        "from sklearn.linear_model import LogisticRegression\n",
        "ruta_al_archivo = \"/content/drive/MyDrive/DADES/DADES_2/etc/43900U_total.pkl\"\n",
        "\n",
        "# Cargar el CSV\n",
        "# df = pd.read_csv(ruta_al_archivo)\n",
        "\n",
        "df = pd.read_pickle(ruta_al_archivo)\n",
        "\n",
        "# Ver las primeras filas para entender los datos\n",
        "print(df.head())\n",
        "\n",
        "# Separar las variables dependientes e independientes\n",
        "X = df.drop('tipo_de_zona', axis=1)  # Aquí 'tipo_de_zona' es la etiqueta que queremos predecir\n",
        "y = df['tipo_de_zona']\n",
        "\n",
        "# Dividir en conjunto de entrenamiento y prueba\n",
        "X_train, X_test, y_train, y_test = train_test_split(X, y, test_size=0.2, random_state=42)\n",
        "\n",
        "# Normalizar los datos\n",
        "scaler = StandardScaler()\n",
        "X_train = scaler.fit_transform(X_train)\n",
        "X_test = scaler.transform(X_test)\n"
      ]
    }
  ]
}